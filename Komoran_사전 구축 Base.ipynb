{
 "cells": [
  {
   "cell_type": "code",
   "execution_count": 1,
   "metadata": {},
   "outputs": [],
   "source": [
    "import pandas as pd\n",
    "import konlpy\n",
    "from konlpy.tag import Komoran\n",
    "from pprint import pprint\n",
    "from collections import defaultdict\n",
    "from collections import Counter\n",
    "komoran=Komoran()"
   ]
  },
  {
   "cell_type": "code",
   "execution_count": 2,
   "metadata": {},
   "outputs": [],
   "source": [
    "#!pip install xlrd\n",
    "Data=pd.read_csv(\"C:/Users/user/Desktop/9.21(월)/현대 자료/현대차 2020-9-21  11시 1분 22초 merging.csv\", engine='python', encoding='CP949') ##데이터 가져오기 \n",
    "corpus=Data['title']  ##데이터 text 지정 - 열이 여러개일때"
   ]
  },
  {
   "cell_type": "code",
   "execution_count": 3,
   "metadata": {},
   "outputs": [
    {
     "name": "stdout",
     "output_type": "stream",
     "text": [
      "training was done. used memory 0.484 Gbry 0.479 Gb\n",
      "all cohesion probabilities was computed. # words = 1849\n",
      "all branching entropies was computed # words = 7536\n",
      "all accessor variety was computed # words = 7536\n"
     ]
    }
   ],
   "source": [
    "from soynlp.word import WordExtractor\n",
    "word_extractor=WordExtractor(max_left_length=10, max_right_length=6, min_frequency=5)\n",
    "word_extractor.train(corpus)\n",
    "scores=word_extractor.word_scores()"
   ]
  },
  {
   "cell_type": "code",
   "execution_count": 4,
   "metadata": {},
   "outputs": [
    {
     "name": "stdout",
     "output_type": "stream",
     "text": [
      "[Noun Extractor] use default predictors\n",
      "[Noun Extractor] num features: pos=3929, neg=2321, common=107\n",
      "[Noun Extractor] counting eojeols\n",
      "[EojeolCounter] n eojeol = 2099 from 2000 sents. mem=0.486 Gb                    \n",
      "[Noun Extractor] complete eojeol counter -> lr graph\n",
      "[Noun Extractor] has been trained. #eojeols=14138, mem=0.489 Gb\n",
      "[Noun Extractor] batch prediction was completed for 392 words\n",
      "[Noun Extractor] checked compounds. discovered 1 compounds\n",
      "[Noun Extractor] postprocessing detaching_features : 100 -> 100\n",
      "[Noun Extractor] postprocessing ignore_features : 100 -> 98\n",
      "[Noun Extractor] postprocessing ignore_NJ : 98 -> 98\n",
      "[Noun Extractor] 98 nouns (1 compounds) with min frequency=2\n",
      "[Noun Extractor] flushing was done. mem=0.492 Gb                    \n",
      "[Noun Extractor] 31.19 % eojeols are covered\n",
      "98\n"
     ]
    }
   ],
   "source": [
    "from soynlp.noun import LRNounExtractor_v2\n",
    "noun_extractor=LRNounExtractor_v2()\n",
    "nouns=noun_extractor.train_extract(corpus,min_noun_frequency=2) #적어도 2번 이상 나온 단어 \n",
    "print(len(nouns)) #추출된 단어의 갯수 확인 \n",
    "#nouns['국립암센터'] #특정단어의 빈도수와 단어점수를 알고 싶을때 사용"
   ]
  },
  {
   "cell_type": "code",
   "execution_count": 5,
   "metadata": {},
   "outputs": [
    {
     "data": {
      "text/plain": [
       "[('현대차', 627, 1.0),\n",
       " ('사업', 113, 1.0),\n",
       " ('디지털키', 110, 1.0),\n",
       " ('서비스', 108, 1.0),\n",
       " ('송파대로', 85, 1.0),\n",
       " ('첫날', 85, 1.0),\n",
       " ('투싼', 81, 1.0),\n",
       " ('부문', 80, 0.8983050847457628),\n",
       " ('로봇', 78, 1.0),\n",
       " ('차박', 75, 1.0),\n",
       " ('SUV', 71, 1.0),\n",
       " ('기반', 70, 1.0),\n",
       " ('체험', 63, 1.0),\n",
       " ('개시', 61, 1.0),\n",
       " ('유럽', 53, 0.6),\n",
       " ('출시', 52, 1.0),\n",
       " ('공개', 48, 1.0),\n",
       " ('실시', 44, 1.0),\n",
       " ('운영', 36, 1.0),\n",
       " ('정의선', 35, 1.0),\n",
       " ('교육', 30, 1.0),\n",
       " (\"전시장'\", 26, 0.8666666666666667),\n",
       " ('타결', 26, 1.0),\n",
       " ('대리운전', 24, 0.6),\n",
       " ('미래', 20, 0.625),\n",
       " ('니콜라', 19, 1.0),\n",
       " ('수소트럭', 18, 0.9),\n",
       " ('코로나', 18, 1.0),\n",
       " ('하루', 18, 1.0),\n",
       " ('추석', 16, 1.0),\n",
       " ('활용', 16, 1.0),\n",
       " ('4위', 14, 0.5833333333333334),\n",
       " ('비대면', 14, 0.875),\n",
       " ('5년', 12, 0.6),\n",
       " ('기업', 12, 1.0),\n",
       " ('시승', 12, 1.0),\n",
       " ('육성', 12, 0.5),\n",
       " ('이달', 12, 1.0),\n",
       " ('전시', 12, 1.0),\n",
       " ('확대', 12, 1.0),\n",
       " ('목표', 10, 1.0),\n",
       " ('인천시', 10, 0.8333333333333334),\n",
       " ('기대감', 9, 0.75),\n",
       " ('공간', 8, 1.0),\n",
       " ('대리운전·차량배송', 8, 1.0),\n",
       " ('사기설', 8, 1.0),\n",
       " ('스위스', 7, 1.0),\n",
       " (\"'디지털\", 6, 1.0),\n",
       " (\"'정의선\", 6, 0.6),\n",
       " ('2022년', 6, 1.0),\n",
       " ('공항', 6, 1.0),\n",
       " ('배송', 6, 0.6),\n",
       " ('브랜드', 6, 0.75),\n",
       " ('이달말', 6, 1.0),\n",
       " ('지향적', 6, 1.0),\n",
       " ('진출', 6, 0.5454545454545454),\n",
       " ('픽업', 6, 0.75),\n",
       " ('노조원', 5, 0.42857142857142855),\n",
       " ('부회장', 5, 0.45454545454545453),\n",
       " ('수소경제', 5, 1.0),\n",
       " ('5차전', 4, 1.0),\n",
       " ('가능', 4, 1.0),\n",
       " ('돌아', 4, 0.6666666666666666),\n",
       " ('싼타페', 4, 0.5),\n",
       " ('양성', 4, 1.0),\n",
       " ('주도', 4, 0.5),\n",
       " ('지속', 4, 0.3333333333333333),\n",
       " (\"키'\", 4, 1.0),\n",
       " ('트럭', 4, 0.6666666666666666),\n",
       " ('2위', 3, 1.0),\n",
       " ('\"노', 2, 0.3333333333333333),\n",
       " (\"'대리운전\", 2, 0.5),\n",
       " (\"'완전\", 2, 0.5),\n",
       " ('‘야', 2, 0.3333333333333333),\n",
       " ('의혹', 2, 0.4)]"
      ]
     },
     "execution_count": 5,
     "metadata": {},
     "output_type": "execute_result"
    }
   ],
   "source": [
    "high_frequency=[(word, *score) for word, score in nouns.items() \n",
    "                if not word.isdigit() and len(word)>1]\n",
    "sorted(high_frequency, key=lambda x:(-x[1], x[0]))[:1000]\n",
    "\n",
    "\n",
    "#위의 결과를 바탕으로 사용자 사전 만들기"
   ]
  },
  {
   "cell_type": "code",
   "execution_count": 12,
   "metadata": {},
   "outputs": [
    {
     "name": "stdout",
     "output_type": "stream",
     "text": [
      "['하반기', '야심작', '시동', '건']\n"
     ]
    }
   ],
   "source": [
    "sent='hyundai 하반기 야심작 시동 건'\n",
    "print(komoran.nouns(sent))"
   ]
  },
  {
   "cell_type": "code",
   "execution_count": 13,
   "metadata": {},
   "outputs": [
    {
     "name": "stdout",
     "output_type": "stream",
     "text": [
      "['hyundai', '하반기', '야심작', '시동', '건']\n"
     ]
    }
   ],
   "source": [
    "##사용자 사전 추가하기 & 사용자사전이 잘 되는지 테스트\n",
    "komoran_userdic=Komoran(userdic='C:/Users/user/Desktop/수정/dicHyundai.txt')\n",
    "# 형태소분석 결과 보기 komoran.pos(sent)\n",
    "print(komoran_userdic.nouns(sent))"
   ]
  }
 ],
 "metadata": {
  "kernelspec": {
   "display_name": "Python 3",
   "language": "python",
   "name": "python3"
  },
  "language_info": {
   "codemirror_mode": {
    "name": "ipython",
    "version": 3
   },
   "file_extension": ".py",
   "mimetype": "text/x-python",
   "name": "python",
   "nbconvert_exporter": "python",
   "pygments_lexer": "ipython3",
   "version": "3.7.6"
  }
 },
 "nbformat": 4,
 "nbformat_minor": 4
}
